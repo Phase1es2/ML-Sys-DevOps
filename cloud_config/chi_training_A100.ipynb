{
 "cells": [
  {
   "cell_type": "markdown",
   "id": "9665dbbf",
   "metadata": {},
   "source": [
    "## This code is use to set and train the model an CHI@TC A100"
   ]
  },
  {
   "cell_type": "code",
   "execution_count": null,
   "id": "c0035dd8",
   "metadata": {
    "vscode": {
     "languageId": "plaintext"
    }
   },
   "outputs": [],
   "source": [
    "from chi import server, context, lease\n",
    "import os\n",
    "\n",
    "context.version = \"1.0\" \n",
    "context.choose_project()\n",
    "context.choose_site(default=\"CHI@UC\")"
   ]
  },
  {
   "cell_type": "code",
   "execution_count": null,
   "id": "083af109",
   "metadata": {
    "vscode": {
     "languageId": "plaintext"
    }
   },
   "outputs": [],
   "source": [
    "l = lease.get_lease(f\"llm_project45\") # or llm_single_netID, or llm_multi_netID\n",
    "l.show()"
   ]
  },
  {
   "cell_type": "code",
   "execution_count": null,
   "id": "35dbd341",
   "metadata": {
    "vscode": {
     "languageId": "plaintext"
    }
   },
   "outputs": [],
   "source": [
    "username = 'project45'\n",
    "s = server.Server(\n",
    "    f\"node-llm-{username}\", \n",
    "    reservation_id=l.node_reservations[0][\"id\"],\n",
    "    image_name=\"CC-Ubuntu24.04-CUDA\"\n",
    ")\n",
    "s.submit(idempotent=True)"
   ]
  },
  {
   "cell_type": "code",
   "execution_count": null,
   "id": "f0babfd5",
   "metadata": {
    "vscode": {
     "languageId": "plaintext"
    }
   },
   "outputs": [],
   "source": [
    "#associate_floating_ip()\n",
    "s.associate_floating_ip()"
   ]
  },
  {
   "cell_type": "code",
   "execution_count": null,
   "id": "1e6afd7d",
   "metadata": {
    "vscode": {
     "languageId": "plaintext"
    }
   },
   "outputs": [],
   "source": [
    "s.refresh()\n",
    "s.check_connectivity()"
   ]
  },
  {
   "cell_type": "code",
   "execution_count": null,
   "id": "7a478a52",
   "metadata": {
    "vscode": {
     "languageId": "plaintext"
    }
   },
   "outputs": [],
   "source": [
    "s.refresh()\n",
    "s.show(type=\"widget\")"
   ]
  },
  {
   "cell_type": "code",
   "execution_count": null,
   "id": "69f2f005",
   "metadata": {
    "vscode": {
     "languageId": "plaintext"
    }
   },
   "outputs": [],
   "source": [
    "s.execute(\"git clone https://github.com/Phase1es2/ML-Sys-DevOps.git\")"
   ]
  },
  {
   "cell_type": "markdown",
   "id": "09cc7ecc",
   "metadata": {},
   "source": [
    "### set up docker with NVIDIA conatiner toolkit"
   ]
  },
  {
   "cell_type": "code",
   "execution_count": null,
   "id": "2dcd43e4",
   "metadata": {
    "vscode": {
     "languageId": "plaintext"
    }
   },
   "outputs": [],
   "source": [
    "s.execute(\"curl -sSL https://get.docker.com/ | sudo sh\")\n",
    "s.execute(\"sudo groupadd -f docker; sudo usermod -aG docker $USER\")\n",
    "s.execute(\"docker run hello-world\")"
   ]
  },
  {
   "cell_type": "code",
   "execution_count": null,
   "id": "6ec5e46e",
   "metadata": {
    "vscode": {
     "languageId": "plaintext"
    }
   },
   "outputs": [],
   "source": [
    "# get NVIDIA container toolkit \n",
    "s.execute(\"curl -fsSL https://nvidia.github.io/libnvidia-container/gpgkey | sudo gpg --dearmor -o /usr/share/keyrings/nvidia-container-toolkit-keyring.gpg \\\n",
    "  && curl -s -L https://nvidia.github.io/libnvidia-container/stable/deb/nvidia-container-toolkit.list | \\\n",
    "    sed 's#deb https://#deb [signed-by=/usr/share/keyrings/nvidia-container-toolkit-keyring.gpg] https://#g' | \\\n",
    "    sudo tee /etc/apt/sources.list.d/nvidia-container-toolkit.list\")\n",
    "s.execute(\"sudo apt update\")\n",
    "s.execute(\"sudo apt-get install -y nvidia-container-toolkit\")\n",
    "s.execute(\"sudo nvidia-ctk runtime configure --runtime=docker\")\n",
    "s.execute(\"sudo systemctl restart docker\")"
   ]
  },
  {
   "cell_type": "code",
   "execution_count": null,
   "id": "1e777454",
   "metadata": {
    "vscode": {
     "languageId": "plaintext"
    }
   },
   "outputs": [],
   "source": [
    "s.execute(\"docker run --rm --gpus all ubuntu nvidia-smi\")"
   ]
  },
  {
   "cell_type": "code",
   "execution_count": null,
   "id": "726e0e8e",
   "metadata": {
    "vscode": {
     "languageId": "plaintext"
    }
   },
   "outputs": [],
   "source": [
    "s.execute(\"docker pull quay.io/jupyter/pytorch-notebook:cuda12-pytorch-2.5.1\")"
   ]
  },
  {
   "cell_type": "code",
   "execution_count": null,
   "id": "e3107ccc",
   "metadata": {
    "vscode": {
     "languageId": "plaintext"
    }
   },
   "outputs": [],
   "source": [
    "s.execute(\"docker run -d -p 8888:8888 --gpus all --name torchnb quay.io/jupyter/pytorch-notebook:cuda12-pytorch-2.5.1\")"
   ]
  },
  {
   "cell_type": "markdown",
   "id": "85c03ff1",
   "metadata": {},
   "source": [
    "In the local Terminal run:"
   ]
  },
  {
   "cell_type": "markdown",
   "id": "cf929e21",
   "metadata": {},
   "source": [
    "``` ssh -L 8888:127.0.0.1:8888 -i ~/.ssh/id_rsa_chameleon cc@A.B.C.D```"
   ]
  },
  {
   "cell_type": "code",
   "execution_count": null,
   "id": "a2f4510d",
   "metadata": {
    "vscode": {
     "languageId": "plaintext"
    }
   },
   "outputs": [],
   "source": [
    "s.execute(\"docker logs torchnb\")"
   ]
  },
  {
   "cell_type": "markdown",
   "id": "07ed9024",
   "metadata": {},
   "source": [
    "looks for ```http://127.0.0.1:8888/lab?token=XXXXXXXXXXXXXXXXXXXXXXXXXXXXXXXXXXXXXXXXXXXXXXXXXX\n",
    "```"
   ]
  },
  {
   "cell_type": "markdown",
   "id": "49e4c48c",
   "metadata": {},
   "source": [
    "If need to monitor GPU usage:"
   ]
  },
  {
   "cell_type": "code",
   "execution_count": null,
   "id": "aa67320a",
   "metadata": {
    "vscode": {
     "languageId": "plaintext"
    }
   },
   "outputs": [],
   "source": [
    "#run on node not in this jupyer\n",
    "sudo apt update\n",
    "sudo -y install nvtop"
   ]
  }
 ],
 "metadata": {
  "language_info": {
   "name": "python"
  }
 },
 "nbformat": 4,
 "nbformat_minor": 5
}
