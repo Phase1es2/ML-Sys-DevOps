{
  "nbformat": 4,
  "nbformat_minor": 0,
  "metadata": {
    "colab": {
      "provenance": []
    },
    "kernelspec": {
      "name": "python3",
      "display_name": "Python 3"
    },
    "language_info": {
      "name": "python"
    }
  },
  "cells": [
    {
      "cell_type": "code",
      "execution_count": null,
      "metadata": {
        "id": "KAZagBAwc0xW"
      },
      "outputs": [],
      "source": [
        "from chi import context, server\n",
        "import chi\n",
        "import os"
      ]
    },
    {
      "cell_type": "code",
      "source": [
        "cinder_client = chi.clients.cinder()"
      ],
      "metadata": {
        "id": "UbLi8m_Pc4mR"
      },
      "execution_count": null,
      "outputs": []
    },
    {
      "cell_type": "code",
      "source": [
        "cinder_client.volumes.list()"
      ],
      "metadata": {
        "id": "egUayo8Xc8-e"
      },
      "execution_count": null,
      "outputs": []
    },
    {
      "cell_type": "code",
      "source": [
        "volume = cinder_client.volumes.create(name=f\"block-persist-project45\", size=40)\n",
        "volume._info"
      ],
      "metadata": {
        "id": "GK51YCW3c_Du"
      },
      "execution_count": null,
      "outputs": []
    },
    {
      "cell_type": "code",
      "source": [
        "server_id = chi.server.get_server(f\"node-persist-project45\").id\n",
        "volume_manager = chi.nova().volumes\n",
        "volume_manager.create_server_volume(server_id = s.id, volume_id = volume.id)"
      ],
      "metadata": {
        "id": "CecRaOfhdADi"
      },
      "execution_count": null,
      "outputs": []
    },
    {
      "cell_type": "code",
      "source": [
        "# detach the volume from a compute instance:\n",
        "volume_manager.delete_server_volume(server_id = s.id, volume_id = volume.id)"
      ],
      "metadata": {
        "id": "on07NQZndEKK"
      },
      "execution_count": null,
      "outputs": []
    },
    {
      "cell_type": "code",
      "source": [
        "# completely delete a volume (loses all the data!):\n",
        "cinder_client.volumes.delete(volume = volume)"
      ],
      "metadata": {
        "id": "WwNFW9n6dF98"
      },
      "execution_count": null,
      "outputs": []
    }
  ]
}